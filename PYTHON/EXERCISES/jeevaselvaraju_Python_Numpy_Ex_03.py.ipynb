{
 "cells": [
  {
   "cell_type": "markdown",
   "metadata": {},
   "source": [
    "## Exercise 1: NumPy: Create an array with values ranging from 12 to 38"
   ]
  },
  {
   "cell_type": "code",
   "execution_count": 1,
   "metadata": {},
   "outputs": [
    {
     "name": "stdout",
     "output_type": "stream",
     "text": [
      "[12 13 14 15 16 17 18 19 20 21 22 23 24 25 26 27 28 29 30 31 32 33 34 35\n",
      " 36 37 38]\n"
     ]
    }
   ],
   "source": [
    "import numpy as np\n",
    "arr = np.arange(12,39)\n",
    "print(arr)"
   ]
  },
  {
   "cell_type": "markdown",
   "metadata": {},
   "source": [
    "## Exercise 2: Add a border around an existing array\n",
    "##### Hint: np.pad()"
   ]
  },
  {
   "cell_type": "markdown",
   "metadata": {},
   "source": [
    "## Solution : np.pad(x,pad_width,mode,constant_value)\n"
   ]
  },
  {
   "cell_type": "code",
   "execution_count": 23,
   "metadata": {},
   "outputs": [
    {
     "name": "stdout",
     "output_type": "stream",
     "text": [
      "original array:\n",
      " [[1. 1. 1.]\n",
      " [1. 1. 1.]\n",
      " [1. 1. 1.]]\n",
      "0 on the border and 1 inside in the array\n",
      " [[0. 0. 0. 0. 0.]\n",
      " [0. 1. 1. 1. 0.]\n",
      " [0. 1. 1. 1. 0.]\n",
      " [0. 1. 1. 1. 0.]\n",
      " [0. 0. 0. 0. 0.]]\n"
     ]
    }
   ],
   "source": [
    "arr1 = np.ones([3,3])\n",
    "print(\"original array:\\n\",arr1)\n",
    "arr1 = np.pad(arr1, pad_width=1, mode='constant', constant_values=0)\n",
    "print(\"0 on the border and 1 inside in the array\\n\",arr1)"
   ]
  },
  {
   "cell_type": "markdown",
   "metadata": {},
   "source": [
    "## Exercise 3: Convert a list and tuple into arrays"
   ]
  },
  {
   "cell_type": "code",
   "execution_count": 42,
   "metadata": {},
   "outputs": [
    {
     "name": "stdout",
     "output_type": "stream",
     "text": [
      "List: [1, 2, 3, 4, 5, 6, 7, 8]\n",
      "List to array: [1 2 3 4 5 6 7 8]\n",
      "Tuple: (1, 2, 3, 4, 5, 6, 7, 8)\n",
      "Tuple to array: [1 2 3 4 5 6 7 8]\n",
      "tuple: ((8, 4, 6), (1, 2, 3))\n",
      "type: <class 'tuple'>\n",
      "tuple to array: [[8 4 6]\n",
      " [1 2 3]]\n"
     ]
    }
   ],
   "source": [
    "a_list = [1,2,3,4,5,6,7,8]\n",
    "print(\"List:\",a_list)\n",
    "list_arr = np.array(a_list)\n",
    "print(\"List to array:\",list_arr)\n",
    "a_tuple = tuple(a_list)\n",
    "print(\"Tuple:\",a_tuple)\n",
    "tuple_arr = np.array(a_tuple)\n",
    "print(\"Tuple to array:\",tuple_arr)\n",
    "tuple_sample = ((8,4,6),(1,2,3))\n",
    "print(\"tuple:\",tuple_sample)\n",
    "print(\"type:\",type(tuple_sample))\n",
    "print(\"tuple to array:\",np.array(tuple_sample))"
   ]
  },
  {
   "cell_type": "markdown",
   "metadata": {},
   "source": [
    "## Also try np.asarray for the problem above! "
   ]
  },
  {
   "cell_type": "markdown",
   "metadata": {},
   "source": [
    "## Exercise 4:  Convert the values of Centigrade degrees into Fahrenheit degrees"
   ]
  },
  {
   "cell_type": "code",
   "execution_count": 64,
   "metadata": {},
   "outputs": [
    {
     "name": "stdout",
     "output_type": "stream",
     "text": [
      "Values in Fahrenheit degrees: [ 0.   12.   45.21 34.   99.91]\n",
      "Values in  Centigrade degrees: [-17.77777778 -11.11111111   7.33888889   1.11111111  37.72777778]\n"
     ]
    }
   ],
   "source": [
    "far_value = [0,12,45.21,34,99.91]\n",
    "far_value = np.array(far_value)\n",
    "print(\"Values in Fahrenheit degrees:\",far_value)\n",
    "centi_value = (5*far_value/9 - 5*32/9)\n",
    "print(\"Values in  Centigrade degrees:\",centi_value)"
   ]
  },
  {
   "cell_type": "markdown",
   "metadata": {},
   "source": [
    "## Exercise 5: Write a NumPy program to find the number of elements of an array, length of one array element in bytes and total bytes consumed by the elements. "
   ]
  },
  {
   "cell_type": "code",
   "execution_count": 63,
   "metadata": {},
   "outputs": [
    {
     "name": "stdout",
     "output_type": "stream",
     "text": [
      "Size of the array:  3\n",
      "Length of one array element in bytes:  8\n",
      "Total bytes consumed by the elements of the array:  24\n"
     ]
    }
   ],
   "source": [
    "arr = np.array([1,2,3],dtype ='float')\n",
    "print(\"Size of the array: \", arr.size)\n",
    "print(\"Length of one array element in bytes: \", arr.itemsize)\n",
    "print(\"Total bytes consumed by the elements of the array: \",arr.nbytes)\n",
    "\n",
    "\n",
    "\n"
   ]
  },
  {
   "cell_type": "markdown",
   "metadata": {},
   "source": [
    "## Exercise 6: Get the unique elements of an array"
   ]
  },
  {
   "cell_type": "code",
   "execution_count": 85,
   "metadata": {},
   "outputs": [
    {
     "name": "stdout",
     "output_type": "stream",
     "text": [
      "Original array: [10 10 20 20 30 30]\n",
      "Unique elements of the above array: [10 20 30]\n",
      "Original array: [[1 1]\n",
      " [2 3]]\n",
      "Unique elements of the above array: [1 2 3]\n"
     ]
    }
   ],
   "source": [
    "arr = [10, 10 ,20 ,20,30 ,30]\n",
    "arr1 = np.array(arr)\n",
    "print(\"Original array:\",arr1)\n",
    "arr2 = np.unique(arr1)\n",
    "print(\"Unique elements of the above array:\",arr2)\n",
    "\n",
    "\n",
    "arr_another = np.array([[1,1],[2,3]])\n",
    "print (\"Original array:\",arr_another)\n",
    "arr_unique = np.unique(arr_another)\n",
    "print(\"Unique elements of the above array:\",arr_unique)"
   ]
  },
  {
   "cell_type": "markdown",
   "metadata": {},
   "source": [
    "## Exercise 7: Change the dimension of an array\n"
   ]
  },
  {
   "cell_type": "code",
   "execution_count": 96,
   "metadata": {},
   "outputs": [
    {
     "name": "stdout",
     "output_type": "stream",
     "text": [
      "Original array:  [1 2 3 4 5 6 7 8 9]\n",
      "Change array shape to (3, 3) -> 3 rows and 3 columns\n",
      " [[1 2 3]\n",
      " [4 5 6]\n",
      " [7 8 9]]\n"
     ]
    }
   ],
   "source": [
    "harrae = np.array([1,2,3,4,5,6,7,8,9])\n",
    "print(\"Original array: \",harrae)\n",
    "harrae.shape=(3,3)\n",
    "print(\"Change array shape to (3, 3) -> 3 rows and 3 columns\\n\",harrae)"
   ]
  },
  {
   "cell_type": "markdown",
   "metadata": {},
   "source": [
    "## Exercise 8: Create a 1-D array of 30 evenly spaced elements between 2.5. and 6.5, inclusive"
   ]
  },
  {
   "cell_type": "code",
   "execution_count": 106,
   "metadata": {},
   "outputs": [
    {
     "name": "stdout",
     "output_type": "stream",
     "text": [
      "30 evenly spaced elements between 2.5. and 6.5\n",
      "\n",
      " [2.5        2.63793103 2.77586207 2.9137931  3.05172414 3.18965517\n",
      " 3.32758621 3.46551724 3.60344828 3.74137931 3.87931034 4.01724138\n",
      " 4.15517241 4.29310345 4.43103448 4.56896552 4.70689655 4.84482759\n",
      " 4.98275862 5.12068966 5.25862069 5.39655172 5.53448276 5.67241379\n",
      " 5.81034483 5.94827586 6.0862069  6.22413793 6.36206897 6.5       ]\n"
     ]
    }
   ],
   "source": [
    "space = np.linspace(2.5,6.5,30)\n",
    "print(\"30 evenly spaced elements between 2.5. and 6.5\\n\\n\",space)\n"
   ]
  },
  {
   "cell_type": "markdown",
   "metadata": {},
   "source": [
    "## Exercise 9: Convert 1-D arrays as columns into a 2-D array"
   ]
  },
  {
   "cell_type": "code",
   "execution_count": 112,
   "metadata": {},
   "outputs": [
    {
     "name": "stdout",
     "output_type": "stream",
     "text": [
      "Array1:  [10 20 30]\n",
      "Array2:  [40 50 60]\n",
      "Coverted array: \n",
      " [[10 40]\n",
      " [20 50]\n",
      " [30 60]]\n"
     ]
    }
   ],
   "source": [
    "arra1 = np.array([10,20,30])\n",
    "arra2 = np.array([40,50,60])\n",
    "print(\"Array1: \",arra1)\n",
    "print(\"Array2: \",arra2)\n",
    "arra3 = np.column_stack((arra1,arra2))\n",
    "print(\"Coverted array: \\n\",arra3)"
   ]
  },
  {
   "cell_type": "markdown",
   "metadata": {},
   "source": [
    "## Exercise 10: Create a 5x5 matrix with row values ranging from 0 to 4"
   ]
  },
  {
   "cell_type": "code",
   "execution_count": 125,
   "metadata": {},
   "outputs": [
    {
     "name": "stdout",
     "output_type": "stream",
     "text": [
      "Original array: \n",
      " [[0. 0. 0. 0. 0.]\n",
      " [0. 0. 0. 0. 0.]\n",
      " [0. 0. 0. 0. 0.]\n",
      " [0. 0. 0. 0. 0.]\n",
      " [0. 0. 0. 0. 0.]]\n",
      "Row values ranging from 0 to 4 \n",
      " [[0. 1. 2. 3. 4.]\n",
      " [0. 1. 2. 3. 4.]\n",
      " [0. 1. 2. 3. 4.]\n",
      " [0. 1. 2. 3. 4.]\n",
      " [0. 1. 2. 3. 4.]]\n"
     ]
    }
   ],
   "source": [
    "mat = np.zeros((5,5))\n",
    "print(\"Original array: \\n\",mat)\n",
    "mat1 = np.arange(5)+mat\n",
    "print(\"Row values ranging from 0 to 4 \\n\",mat1)"
   ]
  },
  {
   "cell_type": "markdown",
   "metadata": {},
   "source": [
    "## Exercise 11: Sum of all the multiples of 3 or 5 below 100"
   ]
  },
  {
   "cell_type": "code",
   "execution_count": 162,
   "metadata": {},
   "outputs": [
    {
     "name": "stdout",
     "output_type": "stream",
     "text": [
      "Original numbers: \n",
      "\n",
      " [ 1  2  3  4  5  6  7  8  9 10 11 12 13 14 15 16 17 18 19 20 21 22 23 24\n",
      " 25 26 27 28 29 30 31 32 33 34 35 36 37 38 39 40 41 42 43 44 45 46 47 48\n",
      " 49 50 51 52 53 54 55 56 57 58 59 60 61 62 63 64 65 66 67 68 69 70 71 72\n",
      " 73 74 75 76 77 78 79 80 81 82 83 84 85 86 87 88 89 90 91 92 93 94 95 96\n",
      " 97 98 99]\n",
      "\n",
      "The Multiples of 3 or 5: \n",
      "\n",
      " [ 3  5  6  9 10 12 15 18 20 21 24 25 27 30 33 35 36 39 40 42 45 48 50 51\n",
      " 54 55 57 60 63 65 66 69 70 72 75 78 80 81 84 85 87 90 93 95 96 99]\n",
      "\n",
      "Sum of only the multiples of 3  or 5 : \n",
      "\n",
      " 2318\n"
     ]
    }
   ],
   "source": [
    "summ = np.arange(1,100)\n",
    "print(\"Original numbers: \\n\\n\",summ)\n",
    "numm = summ[(summ % 3== 0) | (summ %5 == 0)]\n",
    "print(\"\\nThe Multiples of 3 or 5: \\n\\n\",numm)\n",
    "print(\"\\nSum of only the multiples of 3  or 5 : \\n\\n\",numm.sum())"
   ]
  },
  {
   "cell_type": "markdown",
   "metadata": {},
   "source": [
    "## Exercise 12: Combine a one and a two dimensional array together and display their elements\n",
    "##### Hint : np.nditer()"
   ]
  },
  {
   "cell_type": "code",
   "execution_count": 28,
   "metadata": {},
   "outputs": [
    {
     "name": "stdout",
     "output_type": "stream",
     "text": [
      "0\n",
      "0\n",
      "1\n",
      "1\n",
      "2\n",
      "2\n",
      "3\n",
      "3\n"
     ]
    }
   ],
   "source": [
    "x = np.arange(4)\n",
    "y = np.arange(4)\n",
    "for a, b in np.nditer([x,y]):\n",
    "    print(a)\n",
    "    print(b)"
   ]
  },
  {
   "cell_type": "markdown",
   "metadata": {},
   "source": [
    "## above is the example to execute below"
   ]
  },
  {
   "cell_type": "code",
   "execution_count": 173,
   "metadata": {},
   "outputs": [
    {
     "name": "stdout",
     "output_type": "stream",
     "text": [
      "One dimensional array:  [0 1 2 3]\n",
      "Two dimensional array: \n",
      " [[0 1 2 3]\n",
      " [4 5 6 7]]\n",
      "0:0\n",
      "1:1\n",
      "2:2\n",
      "3:3\n",
      "0:4\n",
      "1:5\n",
      "2:6\n",
      "3:7\n"
     ]
    }
   ],
   "source": [
    "ab1 = np.arange(4)\n",
    "print(\"One dimensional array: \",ab1)\n",
    "ab2 = np.arange(8).reshape(2,4)\n",
    "print(\"Two dimensional array: \\n\",ab2)\n",
    "for ab1,ab2 in np.nditer([ab1,ab2]):\n",
    "    print(\"%d:%d\" % (ab1,ab2))"
   ]
  },
  {
   "cell_type": "markdown",
   "metadata": {},
   "source": [
    "## Exercise 13: Write a NumPy program to replace all elements of NumPy array that are greater than specified array."
   ]
  },
  {
   "cell_type": "code",
   "execution_count": 183,
   "metadata": {},
   "outputs": [
    {
     "name": "stdout",
     "output_type": "stream",
     "text": [
      "Original array: \n",
      " [[0.42436315 0.48558583 0.32924763]\n",
      " [0.7439979  0.58220701 0.38213418]\n",
      " [0.5097581  0.34528799 0.1563123 ]]\n",
      "\n",
      "Replace all elements of the said array with .5 which are greater than .5\n",
      " [[0.42436315 0.48558583 0.32924763]\n",
      " [0.5        0.5        0.38213418]\n",
      " [0.5        0.34528799 0.1563123 ]]\n"
     ]
    }
   ],
   "source": [
    "num_arr = np.array ([[0.42436315, 0.48558583, 0.32924763],[0.7439979,  0.58220701, 0.38213418],[0.5097581,  0.34528799, 0.1563123 ]])\n",
    "print (\"Original array: \\n\",num_arr)\n",
    "num_arr[num_arr > 0.5 ] = 0.5\n",
    "print(\"\\nReplace all elements of the said array with .5 which are greater than .5\\n\",num_arr)"
   ]
  },
  {
   "cell_type": "markdown",
   "metadata": {},
   "source": [
    "## Exercise 14: Add a new row to an empty numpy array"
   ]
  },
  {
   "cell_type": "code",
   "execution_count": 205,
   "metadata": {},
   "outputs": [
    {
     "name": "stdout",
     "output_type": "stream",
     "text": [
      "Empty array: []\n",
      "After adding two new arrays:\n",
      " [[10 20 30]\n",
      " [40 50 60]]\n"
     ]
    }
   ],
   "source": [
    "arr = np.empty((0,3),int)\n",
    "print(\"Empty array:\",arr)\n",
    "arr1 = np.append(arr,np.array([[10,20,30],[40,50,60]]),axis =0)\n",
    "print(\"After adding two new arrays:\\n\",arr1)"
   ]
  },
  {
   "cell_type": "markdown",
   "metadata": {},
   "source": [
    "## Exercise 15: Write a NumPy program to join a sequence of arrays along a new axis. "
   ]
  },
  {
   "cell_type": "code",
   "execution_count": 237,
   "metadata": {},
   "outputs": [
    {
     "name": "stdout",
     "output_type": "stream",
     "text": [
      "Original arrays:\n",
      " [1 2 3]\n",
      "[2 3 4]\n",
      "Sequence of arrays along a new axis:\n",
      " [[1 2 3]\n",
      " [2 3 4]]\n",
      "\n",
      "\n",
      "Original arrays:\n",
      "\n",
      "[[1]\n",
      " [2]\n",
      " [3]]\n",
      "\n",
      " [[2]\n",
      " [3]\n",
      " [4]]\n",
      "\n",
      "Sequence of arrays along a new axis:\n",
      " [[1]\n",
      " [2]\n",
      " [3]\n",
      " [2]\n",
      " [3]\n",
      " [4]]\n"
     ]
    }
   ],
   "source": [
    "arr1 = np.array([1,2,3])\n",
    "arr2 = np.array([2,3,4])\n",
    "print(\"Original arrays:\\n\",arr1)\n",
    "print(arr2)\n",
    "arr3 = np.vstack((arr1,arr2))\n",
    "print(\"Sequence of arrays along a new axis:\\n\",arr3)\n",
    "\n",
    "arr4 = np.array([[1],[2],[3]])\n",
    "arr5 = np.array([[2],[3],[4]])\n",
    "print(\"\\n\\nOriginal arrays:\\n\")\n",
    "print(arr4)\n",
    "print(\"\\n\",arr5)\n",
    "arr6 = np.vstack((arr4,arr5))\n",
    "print(\"\\nSequence of arrays along a new axis:\\n\",arr6)"
   ]
  },
  {
   "cell_type": "markdown",
   "metadata": {},
   "source": [
    "## Numpy Exercise Completed  "
   ]
  }
 ],
 "metadata": {
  "kernelspec": {
   "display_name": "Python 3",
   "language": "python",
   "name": "python3"
  },
  "language_info": {
   "codemirror_mode": {
    "name": "ipython",
    "version": 3
   },
   "file_extension": ".py",
   "mimetype": "text/x-python",
   "name": "python",
   "nbconvert_exporter": "python",
   "pygments_lexer": "ipython3",
   "version": "3.7.6"
  }
 },
 "nbformat": 4,
 "nbformat_minor": 4
}
