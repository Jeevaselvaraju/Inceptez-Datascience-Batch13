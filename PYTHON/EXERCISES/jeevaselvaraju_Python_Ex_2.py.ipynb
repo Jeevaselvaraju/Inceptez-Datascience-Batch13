{
 "cells": [
  {
   "cell_type": "markdown",
   "metadata": {},
   "source": [
    "### The questions for the exercises are given above the cells and the expected output is given below the cell. Please type the code inserting a new cell below the question because if you run the expected output cell the output would vanish! Happy learning! "
   ]
  },
  {
   "cell_type": "markdown",
   "metadata": {},
   "source": [
    "## 1. Write a Python program to find those numbers which are divisible by 7 and multiple of 5, between 1500 and 2700 (both included). "
   ]
  },
  {
   "cell_type": "markdown",
   "metadata": {},
   "source": [
    "## Generated Output "
   ]
  },
  {
   "cell_type": "code",
   "execution_count": 1,
   "metadata": {},
   "outputs": [],
   "source": [
    "for num in range (1500,2701):\n",
    "    if(num%7==0) and (num%5==0):\n",
    "        #sample.append(str(num))\n",
    "        convert_list = list(str(num))\n",
    "        print (\"the numbers are:\",*convert_list)\n",
    "       \n",
    " "
   ]
  },
  {
   "cell_type": "markdown",
   "metadata": {},
   "source": [
    "## Actual Output in Solution "
   ]
  },
  {
   "cell_type": "code",
   "execution_count": 2,
   "metadata": {},
   "outputs": [
    {
     "name": "stdout",
     "output_type": "stream",
     "text": [
      "1505,1540,1575,1610,1645,1680,1715,1750,1785,1820,1855,1890,1925,1960,1995,2030,2065,2100,2135,2170,2205,2240,2275,2310,2345,2380,2415,2450,2485,2520,2555,2590,2625,2660,2695\n"
     ]
    }
   ],
   "source": [
    "\n",
    "nl=[]\n",
    "for x in range(1500, 2701):\n",
    "    if (x%7==0) and (x%5==0):\n",
    "        nl.append(str(x))\n",
    "print (','.join(nl))"
   ]
  },
  {
   "cell_type": "markdown",
   "metadata": {},
   "source": [
    "## 2. Write a Python program to construct the following pattern, using a nested for loop.\n"
   ]
  },
  {
   "cell_type": "code",
   "execution_count": 3,
   "metadata": {},
   "outputs": [
    {
     "name": "stdout",
     "output_type": "stream",
     "text": [
      "\n",
      "* \n",
      "* * \n",
      "* * * \n",
      "* * * * \n",
      "* * * * * \n",
      "* * * * \n",
      "* * * \n",
      "* * \n",
      "* \n"
     ]
    }
   ],
   "source": [
    "num=5\n",
    "for i in range(num):\n",
    "    for j in range (i):\n",
    "        print(\"* \",end=\"\")\n",
    "    print('')\n",
    "        \n",
    "for i in range(num,0,-1):\n",
    "    for j in range (i):\n",
    "        print(\"* \",end=\"\")\n",
    "    print('')\n",
    "        \n",
    "        \n",
    "\n",
    "    "
   ]
  },
  {
   "cell_type": "code",
   "execution_count": 4,
   "metadata": {},
   "outputs": [
    {
     "name": "stdout",
     "output_type": "stream",
     "text": [
      "\n",
      "* \n",
      "* * \n",
      "* * * \n",
      "* * * * \n",
      "* * * * * \n",
      "* * * * \n",
      "* * * \n",
      "* * \n",
      "* \n"
     ]
    }
   ],
   "source": [
    "n=5;\n",
    "for i in range(n):\n",
    "    for j in range(i):\n",
    "        print ('* ', end=\"\")\n",
    "    print('')\n",
    "\n",
    "for i in range(n,0,-1):\n",
    "    for j in range(i):\n",
    "        print('* ', end=\"\")\n",
    "    print('')"
   ]
  },
  {
   "cell_type": "markdown",
   "metadata": {},
   "source": [
    "## 3. Write a Python program to count the number of even and odd numbers from a series of numbers."
   ]
  },
  {
   "cell_type": "code",
   "execution_count": 5,
   "metadata": {},
   "outputs": [
    {
     "name": "stdout",
     "output_type": "stream",
     "text": [
      "Total count of Even: 4\n",
      "Total count of Odd: 5\n"
     ]
    }
   ],
   "source": [
    "numbers = (1,2,3,4,5,6,7,8,9)\n",
    "even = 0\n",
    "odd = 0\n",
    "for n in numbers:\n",
    "    if not n % 2:\n",
    "        even = even+1\n",
    "    else:\n",
    "        odd = odd+1\n",
    "print(\"Total count of Even:\",even)\n",
    "print (\"Total count of Odd:\",odd)"
   ]
  },
  {
   "cell_type": "markdown",
   "metadata": {},
   "source": [
    "## Another Method"
   ]
  },
  {
   "cell_type": "code",
   "execution_count": 6,
   "metadata": {},
   "outputs": [
    {
     "name": "stdout",
     "output_type": "stream",
     "text": [
      "Total count of Even: 4\n",
      "Total count of Odd: 5\n"
     ]
    }
   ],
   "source": [
    "numbers = (1,2,3,4,5,6,7,8,9)\n",
    "even = 0\n",
    "odd = 0\n",
    "for n in numbers:\n",
    "    if n % 2==0:\n",
    "        even = even+1\n",
    "    else:\n",
    "        odd = odd+1\n",
    "print(\"Total count of Even:\",even)\n",
    "print (\"Total count of Odd:\",odd)"
   ]
  },
  {
   "cell_type": "markdown",
   "metadata": {},
   "source": [
    "## 4. Write a Python program to find numbers between 100 and 400 (both included) where each digit of a number is an even number. The numbers obtained should be printed in a comma-separated sequence."
   ]
  },
  {
   "cell_type": "markdown",
   "metadata": {},
   "source": [
    "## printed Each Digit in Even by dividing each index by 2"
   ]
  },
  {
   "cell_type": "code",
   "execution_count": 7,
   "metadata": {},
   "outputs": [
    {
     "name": "stdout",
     "output_type": "stream",
     "text": [
      "200,202,204,206,208,220,222,224,226,228,240,242,244,246,248,260,262,264,266,268,280,282,284,286,288,400\n"
     ]
    }
   ],
   "source": [
    "num = []\n",
    "for i in range(100,401):\n",
    "    char = str(i)\n",
    "    \n",
    "    if(int(char[0])%2==0) and (int(char[1])%2==0) and (int(char[2])%2==0):\n",
    "        num.append(char)\n",
    "print (\",\".join(num))\n",
    "#print(char)"
   ]
  },
  {
   "cell_type": "code",
   "execution_count": 8,
   "metadata": {},
   "outputs": [
    {
     "name": "stdout",
     "output_type": "stream",
     "text": [
      "200,202,204,206,208,220,222,224,226,228,240,242,244,246,248,260,262,264,266,268,280,282,284,286,288,400\n"
     ]
    }
   ],
   "source": [
    "items = []\n",
    "for i in range(100, 401):\n",
    "    s = str(i)\n",
    "    if (int(s[0])%2==0) and (int(s[1])%2==0) and (int(s[2])%2==0):\n",
    "        items.append(s)\n",
    "print( \",\".join(items))"
   ]
  },
  {
   "cell_type": "markdown",
   "metadata": {},
   "source": [
    "## 5. Write a Python program to calculate a dog's age in dog's years. Go to the editor\n",
    "Note: For the first two years, a dog year is equal to 10.5 human years. After that, each dog year equals 4 human years."
   ]
  },
  {
   "cell_type": "code",
   "execution_count": 12,
   "metadata": {},
   "outputs": [
    {
     "name": "stdout",
     "output_type": "stream",
     "text": [
      "Input a dog's age in human years:26\n",
      "The dog's age in dog's years is 117\n"
     ]
    }
   ],
   "source": [
    "dog_age = int(input(\"Input a dog's age in human years:\"))\n",
    "if dog_age < 0:\n",
    "    print(\"Age will not be less than 0, please enter greater value\")\n",
    "    exit()\n",
    "elif dog_age < 2:\n",
    "    dogs_age = dog_age * 10.5\n",
    "else:\n",
    "    dogs_age = 21 + (dog_age - 2)*4\n",
    "    \n",
    "print (\"The dog's age in dog's years is\",dogs_age)"
   ]
  },
  {
   "cell_type": "code",
   "execution_count": 11,
   "metadata": {},
   "outputs": [
    {
     "name": "stdout",
     "output_type": "stream",
     "text": [
      "Input a dog's age in human years: 2\n",
      "The dog's age in dog's years is 21.0\n"
     ]
    }
   ],
   "source": [
    "h_age = int(input(\"Input a dog's age in human years: \"))\n",
    "\n",
    "if h_age < 0:\n",
    "    print(\"Age must be positive number.\")\n",
    "    exit()\n",
    "elif h_age <= 2:\n",
    "    d_age = h_age * 10.5\n",
    "else:\n",
    "    d_age = 21 + (h_age - 2)*4\n",
    "\n",
    "print(\"The dog's age in dog's years is\", d_age)"
   ]
  },
  {
   "cell_type": "markdown",
   "metadata": {},
   "source": [
    "## 6. Write a Python function to find the Max of three numbers."
   ]
  },
  {
   "cell_type": "markdown",
   "metadata": {},
   "source": [
    "## Max of 3 numbers "
   ]
  },
  {
   "cell_type": "code",
   "execution_count": 1,
   "metadata": {},
   "outputs": [
    {
     "name": "stdout",
     "output_type": "stream",
     "text": [
      "the max value is: 5\n",
      "None\n"
     ]
    }
   ],
   "source": [
    "def max_value (a,b,c):\n",
    "    #print (2,5,4)\n",
    "    if(a>b) and (a>c):\n",
    "        print (\"the max value is:\",a )\n",
    "    if(b>a) and (b>c):\n",
    "        print (\"the max value is:\",b)\n",
    "    else:\n",
    "        print (\"the max value is:\",c )\n",
    "a=4\n",
    "b=5\n",
    "c=3\n",
    "print(max_value(a,b,c))\n",
    "exit()\n",
    "    \n",
    "\n"
   ]
  },
  {
   "cell_type": "markdown",
   "metadata": {},
   "source": [
    "## ACTUAL METHOD"
   ]
  },
  {
   "cell_type": "code",
   "execution_count": 3,
   "metadata": {},
   "outputs": [
    {
     "name": "stdout",
     "output_type": "stream",
     "text": [
      "The Three numbers are: (3, 6, -5)\n",
      "6\n"
     ]
    }
   ],
   "source": [
    "def max_of_two( x, y ):\n",
    "    if x > y:\n",
    "        return x\n",
    "    return y\n",
    "def max_of_three( x, y, z ):\n",
    "    print(\"The Three numbers are:\",(x,y,z))\n",
    "    return max_of_two( x, max_of_two( y, z ) )\n",
    "print(max_of_three(3, 6, -5))"
   ]
  },
  {
   "cell_type": "markdown",
   "metadata": {},
   "source": [
    "## 7. Write a Python function that takes a number as a parameter and check the number is prime or not."
   ]
  },
  {
   "cell_type": "code",
   "execution_count": 13,
   "metadata": {},
   "outputs": [
    {
     "name": "stdout",
     "output_type": "stream",
     "text": [
      "The Number to check prime or not is: 4\n",
      "False\n"
     ]
    }
   ],
   "source": [
    "def prime_numb (n):\n",
    "    print(\"The Number to check prime or not is:\",n)\n",
    "    if(n==1):\n",
    "        return False\n",
    "    elif(n==2):\n",
    "        return True\n",
    "    else:\n",
    "        for num in range(2,n):\n",
    "            if(n%num==0):\n",
    "                return False\n",
    "        return True\n",
    "print(prime_numb(4))\n"
   ]
  },
  {
   "cell_type": "markdown",
   "metadata": {},
   "source": [
    "## 8. Write a Python function that accepts a string and calculate the number of upper case letters and lower case letters. Go to the editor\n"
   ]
  },
  {
   "cell_type": "code",
   "execution_count": 21,
   "metadata": {},
   "outputs": [
    {
     "name": "stdout",
     "output_type": "stream",
     "text": [
      "the entered string with lower and upper is: JeEvA SeLvArAjU\n",
      "no of upper case: 8\n",
      "no of lower case: 6\n"
     ]
    }
   ],
   "source": [
    "def upper_lower(word):\n",
    "    case = {\"upper_case\":0,\"lower_case\":0}\n",
    "    for count in word:\n",
    "        if count.isupper():\n",
    "            case[\"upper_case\"]+=1\n",
    "        elif count.islower():\n",
    "            case[\"lower_case\"]+=1\n",
    "        else:\n",
    "            pass \n",
    "            \n",
    "    print (\"the entered string with lower and upper is:\",word)\n",
    "    print (\"no of upper case:\",case[\"upper_case\"])\n",
    "    print (\"no of lower case:\",case[\"lower_case\"])\n",
    "    \n",
    "upper_lower('JeEvA SeLvArAjU')\n",
    "            "
   ]
  },
  {
   "cell_type": "code",
   "execution_count": 16,
   "metadata": {},
   "outputs": [
    {
     "name": "stdout",
     "output_type": "stream",
     "text": [
      "Original String :  Inceptz is One of The BeSt Places TO LEarn DataSciEnce\n",
      "No. of Upper case characters :  13\n",
      "No. of Lower case Characters :  32\n"
     ]
    }
   ],
   "source": [
    "def string_test(s):\n",
    "    d={\"UPPER_CASE\":0, \"LOWER_CASE\":0}\n",
    "    for c in s:\n",
    "        if c.isupper():\n",
    "           d[\"UPPER_CASE\"]+=1\n",
    "        elif c.islower():\n",
    "           d[\"LOWER_CASE\"]+=1\n",
    "        else:\n",
    "           pass\n",
    "    print (\"Original String : \", s)\n",
    "    print (\"No. of Upper case characters : \", d[\"UPPER_CASE\"])\n",
    "    print (\"No. of Lower case Characters : \", d[\"LOWER_CASE\"])\n",
    "\n",
    "string_test('Inceptz is One of The BeSt Places TO LEarn DataSciEnce')"
   ]
  },
  {
   "cell_type": "markdown",
   "metadata": {},
   "source": [
    "## 9. Write a Python program to reverse a string. "
   ]
  },
  {
   "cell_type": "code",
   "execution_count": 35,
   "metadata": {},
   "outputs": [
    {
     "name": "stdout",
     "output_type": "stream",
     "text": [
      "the actual string that needs to be reversed:  jeeva selvaraju\n",
      "The reversed string: jeeva selvaraju\n"
     ]
    }
   ],
   "source": [
    "def reverse(word):\n",
    "    print(\"the actual string that needs to be reversed: \",word)\n",
    "    revstr = ''\n",
    "    index = len(word)\n",
    "    while index > 0:\n",
    "        revstr+= word [index-1]\n",
    "        index = index - 1\n",
    "    return word\n",
    "\n",
    "print(\"The reversed string:\",reverse('jeeva selvaraju'))\n",
    "\n"
   ]
  },
  {
   "cell_type": "code",
   "execution_count": 37,
   "metadata": {},
   "outputs": [
    {
     "name": "stdout",
     "output_type": "stream",
     "text": [
      "The original string is: jeeva selvaraju\n",
      "The reversed string: ujaravles aveej\n"
     ]
    }
   ],
   "source": [
    "def string_reverse(str1):\n",
    "    print(\"The original string is:\",str1)\n",
    "    rstr1 = ''\n",
    "    index = len(str1)\n",
    "    while index > 0:\n",
    "        rstr1 += str1[ index - 1 ]\n",
    "        index = index - 1\n",
    "    return rstr1\n",
    "print(\"The reversed string:\",string_reverse('jeeva selvaraju'))"
   ]
  },
  {
   "cell_type": "markdown",
   "metadata": {},
   "source": [
    "## 10. Write a Python program to find  the greatest common divisor (gcd) of two integers."
   ]
  },
  {
   "cell_type": "code",
   "execution_count": 44,
   "metadata": {},
   "outputs": [
    {
     "name": "stdout",
     "output_type": "stream",
     "text": [
      "The defined GCD numbers are: (45, 74)\n",
      "The GCD of the numbers are: 1\n"
     ]
    }
   ],
   "source": [
    "def divisor(x, y):\n",
    "    print(\"The defined GCD numbers are:\",(x,y))\n",
    "    divisor = 1\n",
    "    \n",
    "    if x % y == 0:\n",
    "        return y\n",
    "    \n",
    "    for k in range(int(y / 2), 0, -1):\n",
    "        if x % k == 0 and y % k == 0:\n",
    "            divisor = k\n",
    "            break  \n",
    "    return divisor\n",
    "\n",
    "print(\"The GCD of the numbers are:\",divisor(45, 74))"
   ]
  },
  {
   "cell_type": "code",
   "execution_count": 40,
   "metadata": {},
   "outputs": [
    {
     "name": "stdout",
     "output_type": "stream",
     "text": [
      "The two numbers are: (12, 14)\n",
      "The GCD of the numbers are: 2\n"
     ]
    }
   ],
   "source": [
    "def gcd(x, y):\n",
    "    print(\"The two numbers are:\",(x,y))\n",
    "    gcd = 1\n",
    "    \n",
    "    if x % y == 0:\n",
    "        return y\n",
    "    \n",
    "    for k in range(int(y / 2), 0, -1):\n",
    "        if x % k == 0 and y % k == 0:\n",
    "            gcd = k\n",
    "            break  \n",
    "    return gcd\n",
    "\n",
    "print(\"The GCD of the numbers are:\",gcd(12, 14))"
   ]
  }
 ],
 "metadata": {
  "kernelspec": {
   "display_name": "Python 3",
   "language": "python",
   "name": "python3"
  },
  "language_info": {
   "codemirror_mode": {
    "name": "ipython",
    "version": 3
   },
   "file_extension": ".py",
   "mimetype": "text/x-python",
   "name": "python",
   "nbconvert_exporter": "python",
   "pygments_lexer": "ipython3",
   "version": "3.7.6"
  }
 },
 "nbformat": 4,
 "nbformat_minor": 4
}
