{
 "cells": [
  {
   "cell_type": "markdown",
   "metadata": {},
   "source": [
    "### The questions for the exercises are given above the cells and the expected output is given below the cell. Please type the code inserting a new cell below the question because if you run the expected output cell the output would vanish! Happy learning! "
   ]
  },
  {
   "cell_type": "markdown",
   "metadata": {},
   "source": [
    "## Exercise Question 1: Given an input list removes the element at index 4 and add it to the 2nd position and also, at the end of the list\n",
    "\n",
    "For example: List = [54, 44, 27, 79, 91, 41]"
   ]
  },
  {
   "cell_type": "code",
   "execution_count": 4,
   "metadata": {},
   "outputs": [
    {
     "name": "stdout",
     "output_type": "stream",
     "text": [
      "The Original Values are: [34, 54, 67, 89, 11, 43, 94]\n",
      "removed the element at index 4: [34, 54, 67, 89, 43, 94]\n",
      "added in index 2: [34, 54, 11, 67, 89, 43, 94]\n",
      "added in end of  index 2: [34, 54, 11, 67, 89, 43, 94, 11]\n"
     ]
    }
   ],
   "source": [
    "original_list = [34, 54, 67, 89, 11, 43, 94]\n",
    "print (\"The Original Values are:\",original_list)\n",
    "\n",
    "remove = original_list.pop(4)\n",
    "print (\"removed the element at index 4:\",original_list)\n",
    "\n",
    "original_list.insert(2,remove)\n",
    "print (\"added in index 2:\",original_list)\n",
    "\n",
    "original_list.append(remove)\n",
    "print (\"added in end of  index 2:\",original_list)\n",
    "\n"
   ]
  },
  {
   "cell_type": "markdown",
   "metadata": {},
   "source": [
    "## Exercise Question 2: Given a two list of equal size create a list of unique elements from both the lists into a seperate list"
   ]
  },
  {
   "cell_type": "code",
   "execution_count": 16,
   "metadata": {
    "scrolled": true
   },
   "outputs": [
    {
     "name": "stdout",
     "output_type": "stream",
     "text": [
      "[1, 2, 3, 4, 5, 6, 7, 8]\n",
      "[11, 4, 7, 14, 15, 8]\n",
      "{1, 2, 3, 4, 5, 6, 7, 8, 11, 14, 15}\n",
      "[1, 2, 3, 4, 5, 6, 7, 8, 11, 14, 15]\n"
     ]
    }
   ],
   "source": [
    "list1 = [1,2,3,4,5,6,7,8]\n",
    "list2 = [11,4,7,14,15,8]\n",
    "print (list1)\n",
    "print (list2)\n",
    "list1.extend(list2)\n",
    "listresult = set(list1)\n",
    "print (listresult)\n",
    "listresult = list(listresult)\n",
    "print (listresult)\n"
   ]
  },
  {
   "cell_type": "code",
   "execution_count": 20,
   "metadata": {},
   "outputs": [
    {
     "name": "stdout",
     "output_type": "stream",
     "text": [
      "[1, 2, 3, 4, 4, 6, 6, 9, 8, 4, 5, 6, 7, 8]\n",
      "[11, 4, 7, 14, 11, 4, 5, 66, 2, 2, 1, 2, 15, 8]\n",
      "[1, 2, 3, 4, 4, 6, 6, 9, 8, 4, 5, 6, 7, 8, 11, 4, 7, 14, 11, 4, 5, 66, 2, 2, 1, 2, 15, 8]\n",
      "{1, 2, 3, 4, 5, 6, 7, 8, 9, 66, 11, 14, 15}\n",
      "[1, 2, 3, 4, 5, 6, 7, 8, 9, 66, 11, 14, 15]\n"
     ]
    }
   ],
   "source": [
    "list1 = [1,2,3,4,4,6,6,9,8,4,5,6,7,8]\n",
    "list2 = [11,4,7,14,11,4,5,66,2,2,1,2,15,8]\n",
    "print (list1)\n",
    "print (list2)\n",
    "list1.extend(list2)\n",
    "print (list1)\n",
    "listresult = set(list1)\n",
    "print (listresult)\n",
    "listres = list(listresult)\n",
    "print (listres)"
   ]
  },
  {
   "cell_type": "markdown",
   "metadata": {},
   "source": [
    "## Exercise Question 3: Remove duplicate from a list and create a tuple and find the minimum and maximum number (Hint: Try Functions Min() and Max() ) "
   ]
  },
  {
   "cell_type": "code",
   "execution_count": 6,
   "metadata": {},
   "outputs": [
    {
     "name": "stdout",
     "output_type": "stream",
     "text": [
      "set form to remove duplicate: {1, 2, 3, 4, 5, 6, 7, 8, 9, 11, 12, 13}\n",
      "bringing back to list format: [1, 2, 3, 4, 5, 6, 7, 8, 9, 11, 12, 13]\n",
      "coverted to tuple format: (1, 2, 3, 4, 5, 6, 7, 8, 9, 11, 12, 13)\n",
      "printed min numb: 1\n",
      "printed max numb: 13\n"
     ]
    }
   ],
   "source": [
    "list_duplicate = [1,2,3,3,4,5,5,6,7,8,9,11,11,12,13,13,4,8,5,3]\n",
    "list_remove = set(list_duplicate)\n",
    "print (\"set form to remove duplicate:\",list_remove)\n",
    "list_remove = list(list_remove)\n",
    "print (\"bringing back to list format:\",list_remove)\n",
    "list_tuple= tuple(list_remove)\n",
    "print (\"coverted to tuple format:\",list_tuple)\n",
    "print (\"printed min numb:\",min(list_remove))\n",
    "print (\"printed max numb:\",max(list_remove))\n"
   ]
  },
  {
   "cell_type": "markdown",
   "metadata": {},
   "source": [
    "## Exercise Question 4: Display the each word in the string Count the number of words in a string and display it (Including the white spaces) "
   ]
  },
  {
   "cell_type": "code",
   "execution_count": 19,
   "metadata": {},
   "outputs": [
    {
     "name": "stdout",
     "output_type": "stream",
     "text": [
      "w h a t ' s   u p ?\n"
     ]
    }
   ],
   "source": [
    "#Printing each words seperately \n",
    "a = \"what's up?\"\n",
    "print(*a)"
   ]
  },
  {
   "cell_type": "code",
   "execution_count": 9,
   "metadata": {},
   "outputs": [
    {
     "name": "stdout",
     "output_type": "stream",
     "text": [
      "The sample string: Welcome to Python\n",
      "Printing each words seperately: W e l c o m e   t o   P y t h o n\n",
      "The Length of the string: 17\n"
     ]
    }
   ],
   "source": [
    "sample_word = \"Welcome to Python\"\n",
    "print (\"The sample string:\",sample_word)\n",
    "each_words = list(sample_word)\n",
    "print (\"Printing each words seperately:\",*each_words)\n",
    "length = len(sample_word)\n",
    "print(\"The Length of the string:\",length)"
   ]
  },
  {
   "cell_type": "code",
   "execution_count": 11,
   "metadata": {},
   "outputs": [
    {
     "name": "stdout",
     "output_type": "stream",
     "text": [
      "The sample string: Welcome to Python\n",
      "Printing each words seperately: ['W', 'e', 'l', 'c', 'o', 'm', 'e', ' ', 't', 'o', ' ', 'P', 'y', 't', 'h', 'o', 'n']\n",
      "The Length of the string: 17\n"
     ]
    }
   ],
   "source": [
    "sample_word = \"Welcome to Python\"\n",
    "print (\"The sample string:\",sample_word)\n",
    "each_words = list(sample_word)\n",
    "print (\"Printing each words seperately:\",each_words)\n",
    "length = len(sample_word)\n",
    "print(\"The Length of the string:\",length)"
   ]
  },
  {
   "cell_type": "markdown",
   "metadata": {},
   "source": [
    "##  Exercise Question 5: Write a Python program to access dictionary keys element by index. i.e. Use indexing methods to print the first key"
   ]
  },
  {
   "cell_type": "code",
   "execution_count": 23,
   "metadata": {},
   "outputs": [
    {
     "name": "stdout",
     "output_type": "stream",
     "text": [
      "The dictionary is: {'physics': 80, 'math': 90, 'chemistry': 86}\n",
      "The key element accesed by index: physics\n"
     ]
    }
   ],
   "source": [
    "word = {'physics':80,'math':90,'chemistry':86}\n",
    "print (\"The dictionary is:\",word)\n",
    "print (\"The key element accesed by index:\",list(word)[0])"
   ]
  },
  {
   "cell_type": "code",
   "execution_count": 26,
   "metadata": {},
   "outputs": [
    {
     "name": "stdout",
     "output_type": "stream",
     "text": [
      "The dictionary is: {'Jeeva_Selvaraju': 80, 'math_for_statistics': 90, 'python_for_datascientist': 86}\n",
      "The key element accesed by index: Jeeva_Selvaraju\n",
      "The key element accesed by index: math_for_statistics\n",
      "The key element accesed by index: python_for_datascientist\n"
     ]
    }
   ],
   "source": [
    "word = {'Jeeva_Selvaraju':80,'math_for_statistics':90,'python_for_datascientist':86}\n",
    "print (\"The dictionary is:\",word)\n",
    "print (\"The key element accesed by index:\",list(word)[0])\n",
    "print (\"The key element accesed by index:\",list(word)[1])\n",
    "print (\"The key element accesed by index:\",list(word)[2])"
   ]
  }
 ],
 "metadata": {
  "kernelspec": {
   "display_name": "Python 3",
   "language": "python",
   "name": "python3"
  },
  "language_info": {
   "codemirror_mode": {
    "name": "ipython",
    "version": 3
   },
   "file_extension": ".py",
   "mimetype": "text/x-python",
   "name": "python",
   "nbconvert_exporter": "python",
   "pygments_lexer": "ipython3",
   "version": "3.7.6"
  }
 },
 "nbformat": 4,
 "nbformat_minor": 4
}
