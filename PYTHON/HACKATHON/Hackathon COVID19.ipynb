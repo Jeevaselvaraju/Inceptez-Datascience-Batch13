{
 "cells": [
  {
   "cell_type": "code",
   "execution_count": 1,
   "metadata": {},
   "outputs": [],
   "source": [
    "import pandas as pd\n",
    "import numpy as np\n",
    "import matplotlib.pyplot as plt\n",
    "%matplotlib inline\n",
    "import seaborn as sns"
   ]
  },
  {
   "cell_type": "code",
   "execution_count": 2,
   "metadata": {},
   "outputs": [
    {
     "name": "stdout",
     "output_type": "stream",
     "text": [
      "Collecting pysqlite3\n",
      "  Using cached pysqlite3-0.4.2.tar.gz (40 kB)\n",
      "Building wheels for collected packages: pysqlite3\n",
      "  Building wheel for pysqlite3 (setup.py): started\n",
      "  Building wheel for pysqlite3 (setup.py): finished with status 'done'\n",
      "  Running setup.py clean for pysqlite3\n",
      "Failed to build pysqlite3\n",
      "Installing collected packages: pysqlite3\n",
      "    Running setup.py install for pysqlite3: started\n",
      "    Running setup.py install for pysqlite3: finished with status 'done'\n",
      "Successfully installed pysqlite3\n"
     ]
    },
    {
     "name": "stderr",
     "output_type": "stream",
     "text": [
      "  WARNING: Legacy build of wheel for 'pysqlite3' created no files.\n",
      "  Command arguments: 'C:\\Users\\hp\\anaconda3\\python.exe' -u -c 'import sys, setuptools, tokenize; sys.argv[0] = '\"'\"'C:\\\\Users\\\\hp\\\\AppData\\\\Local\\\\Temp\\\\pip-install-5hy3klkw\\\\pysqlite3\\\\setup.py'\"'\"'; __file__='\"'\"'C:\\\\Users\\\\hp\\\\AppData\\\\Local\\\\Temp\\\\pip-install-5hy3klkw\\\\pysqlite3\\\\setup.py'\"'\"';f=getattr(tokenize, '\"'\"'open'\"'\"', open)(__file__);code=f.read().replace('\"'\"'\\r\\n'\"'\"', '\"'\"'\\n'\"'\"');f.close();exec(compile(code, __file__, '\"'\"'exec'\"'\"'))' bdist_wheel -d 'C:\\Users\\hp\\AppData\\Local\\Temp\\pip-wheel-zxpnnslh'\n",
      "  Command output: [use --verbose to show]\n"
     ]
    }
   ],
   "source": [
    "!pip install pysqlite3"
   ]
  },
  {
   "cell_type": "code",
   "execution_count": 3,
   "metadata": {},
   "outputs": [
    {
     "name": "stderr",
     "output_type": "stream",
     "text": [
      "C:\\Users\\hp\\anaconda3\\lib\\site-packages\\IPython\\core\\interactiveshell.py:3063: DtypeWarning: Columns (8) have mixed types.Specify dtype option on import or set low_memory=False.\n",
      "  interactivity=interactivity, compiler=compiler, result=result)\n"
     ]
    }
   ],
   "source": [
    "covid19 = pd.read_csv('covid_19_cases.csv')"
   ]
  },
  {
   "cell_type": "code",
   "execution_count": 4,
   "metadata": {},
   "outputs": [
    {
     "data": {
      "text/html": [
       "<div>\n",
       "<style scoped>\n",
       "    .dataframe tbody tr th:only-of-type {\n",
       "        vertical-align: middle;\n",
       "    }\n",
       "\n",
       "    .dataframe tbody tr th {\n",
       "        vertical-align: top;\n",
       "    }\n",
       "\n",
       "    .dataframe thead th {\n",
       "        text-align: right;\n",
       "    }\n",
       "</style>\n",
       "<table border=\"1\" class=\"dataframe\">\n",
       "  <thead>\n",
       "    <tr style=\"text-align: right;\">\n",
       "      <th></th>\n",
       "      <th>case_type</th>\n",
       "      <th>people_total_tested_count</th>\n",
       "      <th>cases</th>\n",
       "      <th>difference</th>\n",
       "      <th>date</th>\n",
       "      <th>combined_key</th>\n",
       "      <th>country_region</th>\n",
       "      <th>province_state</th>\n",
       "      <th>admin2</th>\n",
       "      <th>iso2</th>\n",
       "      <th>iso3</th>\n",
       "      <th>fips</th>\n",
       "      <th>lat</th>\n",
       "      <th>long</th>\n",
       "      <th>population_count</th>\n",
       "      <th>people_hospitalized_cumulative_count</th>\n",
       "      <th>data_source</th>\n",
       "      <th>prep_flow_runtime</th>\n",
       "    </tr>\n",
       "  </thead>\n",
       "  <tbody>\n",
       "    <tr>\n",
       "      <th>0</th>\n",
       "      <td>Confirmed</td>\n",
       "      <td>NaN</td>\n",
       "      <td>0</td>\n",
       "      <td>0</td>\n",
       "      <td>2020-02-03</td>\n",
       "      <td>Switzerland</td>\n",
       "      <td>Switzerland</td>\n",
       "      <td>NaN</td>\n",
       "      <td>NaN</td>\n",
       "      <td>CH</td>\n",
       "      <td>CHE</td>\n",
       "      <td>NaN</td>\n",
       "      <td>46.8182</td>\n",
       "      <td>8.2275</td>\n",
       "      <td>8654618.0</td>\n",
       "      <td>NaN</td>\n",
       "      <td>2019 Novel Coronavirus COVID-19 (2019-nCoV) Da...</td>\n",
       "      <td>2020-05-02T23:35:41</td>\n",
       "    </tr>\n",
       "    <tr>\n",
       "      <th>1</th>\n",
       "      <td>Deaths</td>\n",
       "      <td>NaN</td>\n",
       "      <td>0</td>\n",
       "      <td>0</td>\n",
       "      <td>2020-03-01</td>\n",
       "      <td>Cyprus</td>\n",
       "      <td>Cyprus</td>\n",
       "      <td>NaN</td>\n",
       "      <td>NaN</td>\n",
       "      <td>CY</td>\n",
       "      <td>CYP</td>\n",
       "      <td>NaN</td>\n",
       "      <td>35.1264</td>\n",
       "      <td>33.4299</td>\n",
       "      <td>1207361.0</td>\n",
       "      <td>NaN</td>\n",
       "      <td>2019 Novel Coronavirus COVID-19 (2019-nCoV) Da...</td>\n",
       "      <td>2020-05-02T23:35:41</td>\n",
       "    </tr>\n",
       "    <tr>\n",
       "      <th>2</th>\n",
       "      <td>Confirmed</td>\n",
       "      <td>NaN</td>\n",
       "      <td>23</td>\n",
       "      <td>0</td>\n",
       "      <td>2020-04-21</td>\n",
       "      <td>Antigua and Barbuda</td>\n",
       "      <td>Antigua and Barbuda</td>\n",
       "      <td>NaN</td>\n",
       "      <td>NaN</td>\n",
       "      <td>AG</td>\n",
       "      <td>ATG</td>\n",
       "      <td>NaN</td>\n",
       "      <td>17.0608</td>\n",
       "      <td>-61.7964</td>\n",
       "      <td>97928.0</td>\n",
       "      <td>NaN</td>\n",
       "      <td>2019 Novel Coronavirus COVID-19 (2019-nCoV) Da...</td>\n",
       "      <td>2020-05-02T23:35:41</td>\n",
       "    </tr>\n",
       "    <tr>\n",
       "      <th>3</th>\n",
       "      <td>Deaths</td>\n",
       "      <td>NaN</td>\n",
       "      <td>0</td>\n",
       "      <td>0</td>\n",
       "      <td>2020-02-11</td>\n",
       "      <td>Jamaica</td>\n",
       "      <td>Jamaica</td>\n",
       "      <td>NaN</td>\n",
       "      <td>NaN</td>\n",
       "      <td>JM</td>\n",
       "      <td>JAM</td>\n",
       "      <td>NaN</td>\n",
       "      <td>18.1096</td>\n",
       "      <td>-77.2975</td>\n",
       "      <td>2961161.0</td>\n",
       "      <td>NaN</td>\n",
       "      <td>2019 Novel Coronavirus COVID-19 (2019-nCoV) Da...</td>\n",
       "      <td>2020-05-02T23:35:41</td>\n",
       "    </tr>\n",
       "    <tr>\n",
       "      <th>4</th>\n",
       "      <td>Confirmed</td>\n",
       "      <td>NaN</td>\n",
       "      <td>0</td>\n",
       "      <td>0</td>\n",
       "      <td>2020-02-06</td>\n",
       "      <td>Belize</td>\n",
       "      <td>Belize</td>\n",
       "      <td>NaN</td>\n",
       "      <td>NaN</td>\n",
       "      <td>BZ</td>\n",
       "      <td>BLZ</td>\n",
       "      <td>NaN</td>\n",
       "      <td>17.1899</td>\n",
       "      <td>-88.4976</td>\n",
       "      <td>397621.0</td>\n",
       "      <td>NaN</td>\n",
       "      <td>2019 Novel Coronavirus COVID-19 (2019-nCoV) Da...</td>\n",
       "      <td>2020-05-02T23:35:41</td>\n",
       "    </tr>\n",
       "  </tbody>\n",
       "</table>\n",
       "</div>"
      ],
      "text/plain": [
       "   case_type  people_total_tested_count  cases  difference        date  \\\n",
       "0  Confirmed                        NaN      0           0  2020-02-03   \n",
       "1     Deaths                        NaN      0           0  2020-03-01   \n",
       "2  Confirmed                        NaN     23           0  2020-04-21   \n",
       "3     Deaths                        NaN      0           0  2020-02-11   \n",
       "4  Confirmed                        NaN      0           0  2020-02-06   \n",
       "\n",
       "          combined_key       country_region province_state admin2 iso2 iso3  \\\n",
       "0          Switzerland          Switzerland            NaN    NaN   CH  CHE   \n",
       "1               Cyprus               Cyprus            NaN    NaN   CY  CYP   \n",
       "2  Antigua and Barbuda  Antigua and Barbuda            NaN    NaN   AG  ATG   \n",
       "3              Jamaica              Jamaica            NaN    NaN   JM  JAM   \n",
       "4               Belize               Belize            NaN    NaN   BZ  BLZ   \n",
       "\n",
       "   fips      lat     long  population_count  \\\n",
       "0   NaN  46.8182   8.2275         8654618.0   \n",
       "1   NaN  35.1264  33.4299         1207361.0   \n",
       "2   NaN  17.0608 -61.7964           97928.0   \n",
       "3   NaN  18.1096 -77.2975         2961161.0   \n",
       "4   NaN  17.1899 -88.4976          397621.0   \n",
       "\n",
       "   people_hospitalized_cumulative_count  \\\n",
       "0                                   NaN   \n",
       "1                                   NaN   \n",
       "2                                   NaN   \n",
       "3                                   NaN   \n",
       "4                                   NaN   \n",
       "\n",
       "                                         data_source    prep_flow_runtime  \n",
       "0  2019 Novel Coronavirus COVID-19 (2019-nCoV) Da...  2020-05-02T23:35:41  \n",
       "1  2019 Novel Coronavirus COVID-19 (2019-nCoV) Da...  2020-05-02T23:35:41  \n",
       "2  2019 Novel Coronavirus COVID-19 (2019-nCoV) Da...  2020-05-02T23:35:41  \n",
       "3  2019 Novel Coronavirus COVID-19 (2019-nCoV) Da...  2020-05-02T23:35:41  \n",
       "4  2019 Novel Coronavirus COVID-19 (2019-nCoV) Da...  2020-05-02T23:35:41  "
      ]
     },
     "execution_count": 4,
     "metadata": {},
     "output_type": "execute_result"
    }
   ],
   "source": [
    "covid19.head()"
   ]
  },
  {
   "cell_type": "code",
   "execution_count": 5,
   "metadata": {},
   "outputs": [
    {
     "data": {
      "text/plain": [
       "(718080, 18)"
      ]
     },
     "execution_count": 5,
     "metadata": {},
     "output_type": "execute_result"
    }
   ],
   "source": [
    "covid19.shape"
   ]
  },
  {
   "cell_type": "code",
   "execution_count": 6,
   "metadata": {},
   "outputs": [
    {
     "data": {
      "text/plain": [
       "Index(['case_type', 'people_total_tested_count', 'cases', 'difference', 'date',\n",
       "       'combined_key', 'country_region', 'province_state', 'admin2', 'iso2',\n",
       "       'iso3', 'fips', 'lat', 'long', 'population_count',\n",
       "       'people_hospitalized_cumulative_count', 'data_source',\n",
       "       'prep_flow_runtime'],\n",
       "      dtype='object')"
      ]
     },
     "execution_count": 6,
     "metadata": {},
     "output_type": "execute_result"
    }
   ],
   "source": [
    "covid19.columns\n"
   ]
  },
  {
   "cell_type": "code",
   "execution_count": 7,
   "metadata": {},
   "outputs": [
    {
     "data": {
      "text/plain": [
       "<bound method DataFrame.info of         case_type  people_total_tested_count  cases  difference        date  \\\n",
       "0       Confirmed                        NaN      0           0  2020-02-03   \n",
       "1          Deaths                        NaN      0           0  2020-03-01   \n",
       "2       Confirmed                        NaN     23           0  2020-04-21   \n",
       "3          Deaths                        NaN      0           0  2020-02-11   \n",
       "4       Confirmed                        NaN      0           0  2020-02-06   \n",
       "...           ...                        ...    ...         ...         ...   \n",
       "718075  Confirmed                        NaN      0           0  2020-01-22   \n",
       "718076     Deaths                        NaN      0           0  2020-01-22   \n",
       "718077     Deaths                        NaN      0           0  2020-01-22   \n",
       "718078  Confirmed                        NaN      0           0  2020-01-22   \n",
       "718079  Confirmed                        NaN      0           0  2020-01-22   \n",
       "\n",
       "                    combined_key       country_region province_state  admin2  \\\n",
       "0                    Switzerland          Switzerland            NaN     NaN   \n",
       "1                         Cyprus               Cyprus            NaN     NaN   \n",
       "2            Antigua and Barbuda  Antigua and Barbuda            NaN     NaN   \n",
       "3                        Jamaica              Jamaica            NaN     NaN   \n",
       "4                         Belize               Belize            NaN     NaN   \n",
       "...                          ...                  ...            ...     ...   \n",
       "718075        Jones, Georgia, US                   US        Georgia   Jones   \n",
       "718076       Tulsa, Oklahoma, US                   US       Oklahoma   Tulsa   \n",
       "718077       Wood, Wisconsin, US                   US      Wisconsin    Wood   \n",
       "718078       Starke, Indiana, US                   US        Indiana  Starke   \n",
       "718079  Pierce, North Dakota, US                   US   North Dakota  Pierce   \n",
       "\n",
       "       iso2 iso3     fips        lat       long  population_count  \\\n",
       "0        CH  CHE      NaN  46.818200   8.227500         8654618.0   \n",
       "1        CY  CYP      NaN  35.126400  33.429900         1207361.0   \n",
       "2        AG  ATG      NaN  17.060800 -61.796400           97928.0   \n",
       "3        JM  JAM      NaN  18.109600 -77.297500         2961161.0   \n",
       "4        BZ  BLZ      NaN  17.189900 -88.497600          397621.0   \n",
       "...     ...  ...      ...        ...        ...               ...   \n",
       "718075   US  USA  13169.0  33.025121 -83.560192           28735.0   \n",
       "718076   US  USA  40143.0  36.119396 -95.940139          651552.0   \n",
       "718077   US  USA  55141.0  44.455379 -90.041583           72999.0   \n",
       "718078   US  USA  18149.0  41.278903 -86.646869           22995.0   \n",
       "718079   US  USA  38069.0  48.249770 -99.964078            3975.0   \n",
       "\n",
       "        people_hospitalized_cumulative_count  \\\n",
       "0                                        NaN   \n",
       "1                                        NaN   \n",
       "2                                        NaN   \n",
       "3                                        NaN   \n",
       "4                                        NaN   \n",
       "...                                      ...   \n",
       "718075                                   NaN   \n",
       "718076                                   NaN   \n",
       "718077                                   NaN   \n",
       "718078                                   NaN   \n",
       "718079                                   NaN   \n",
       "\n",
       "                                              data_source    prep_flow_runtime  \n",
       "0       2019 Novel Coronavirus COVID-19 (2019-nCoV) Da...  2020-05-02T23:35:41  \n",
       "1       2019 Novel Coronavirus COVID-19 (2019-nCoV) Da...  2020-05-02T23:35:41  \n",
       "2       2019 Novel Coronavirus COVID-19 (2019-nCoV) Da...  2020-05-02T23:35:41  \n",
       "3       2019 Novel Coronavirus COVID-19 (2019-nCoV) Da...  2020-05-02T23:35:41  \n",
       "4       2019 Novel Coronavirus COVID-19 (2019-nCoV) Da...  2020-05-02T23:35:41  \n",
       "...                                                   ...                  ...  \n",
       "718075  2019 Novel Coronavirus COVID-19 (2019-nCoV) Da...  2020-05-02T23:35:41  \n",
       "718076  2019 Novel Coronavirus COVID-19 (2019-nCoV) Da...  2020-05-02T23:35:41  \n",
       "718077  2019 Novel Coronavirus COVID-19 (2019-nCoV) Da...  2020-05-02T23:35:41  \n",
       "718078  2019 Novel Coronavirus COVID-19 (2019-nCoV) Da...  2020-05-02T23:35:41  \n",
       "718079  2019 Novel Coronavirus COVID-19 (2019-nCoV) Da...  2020-05-02T23:35:41  \n",
       "\n",
       "[718080 rows x 18 columns]>"
      ]
     },
     "execution_count": 7,
     "metadata": {},
     "output_type": "execute_result"
    }
   ],
   "source": [
    "covid19.info"
   ]
  },
  {
   "cell_type": "code",
   "execution_count": 15,
   "metadata": {},
   "outputs": [
    {
     "name": "stdout",
     "output_type": "stream",
     "text": [
      "                     case_type  people_total_tested_count  cases  difference  \\\n",
      "country_region                                                                 \n",
      "Switzerland          Confirmed                        NaN      0           0   \n",
      "Cyprus                  Deaths                        NaN      0           0   \n",
      "Antigua and Barbuda  Confirmed                        NaN     23           0   \n",
      "Jamaica                 Deaths                        NaN      0           0   \n",
      "Belize               Confirmed                        NaN      0           0   \n",
      "...                        ...                        ...    ...         ...   \n",
      "US                   Confirmed                        NaN      0           0   \n",
      "US                      Deaths                        NaN      0           0   \n",
      "US                      Deaths                        NaN      0           0   \n",
      "US                   Confirmed                        NaN      0           0   \n",
      "US                   Confirmed                        NaN      0           0   \n",
      "\n",
      "                           date              combined_key province_state  \\\n",
      "country_region                                                             \n",
      "Switzerland          2020-02-03               Switzerland            NaN   \n",
      "Cyprus               2020-03-01                    Cyprus            NaN   \n",
      "Antigua and Barbuda  2020-04-21       Antigua and Barbuda            NaN   \n",
      "Jamaica              2020-02-11                   Jamaica            NaN   \n",
      "Belize               2020-02-06                    Belize            NaN   \n",
      "...                         ...                       ...            ...   \n",
      "US                   2020-01-22        Jones, Georgia, US        Georgia   \n",
      "US                   2020-01-22       Tulsa, Oklahoma, US       Oklahoma   \n",
      "US                   2020-01-22       Wood, Wisconsin, US      Wisconsin   \n",
      "US                   2020-01-22       Starke, Indiana, US        Indiana   \n",
      "US                   2020-01-22  Pierce, North Dakota, US   North Dakota   \n",
      "\n",
      "                     admin2 iso2 iso3     fips        lat       long  \\\n",
      "country_region                                                         \n",
      "Switzerland             NaN   CH  CHE      NaN  46.818200   8.227500   \n",
      "Cyprus                  NaN   CY  CYP      NaN  35.126400  33.429900   \n",
      "Antigua and Barbuda     NaN   AG  ATG      NaN  17.060800 -61.796400   \n",
      "Jamaica                 NaN   JM  JAM      NaN  18.109600 -77.297500   \n",
      "Belize                  NaN   BZ  BLZ      NaN  17.189900 -88.497600   \n",
      "...                     ...  ...  ...      ...        ...        ...   \n",
      "US                    Jones   US  USA  13169.0  33.025121 -83.560192   \n",
      "US                    Tulsa   US  USA  40143.0  36.119396 -95.940139   \n",
      "US                     Wood   US  USA  55141.0  44.455379 -90.041583   \n",
      "US                   Starke   US  USA  18149.0  41.278903 -86.646869   \n",
      "US                   Pierce   US  USA  38069.0  48.249770 -99.964078   \n",
      "\n",
      "                     population_count  people_hospitalized_cumulative_count  \\\n",
      "country_region                                                                \n",
      "Switzerland                 8654618.0                                   NaN   \n",
      "Cyprus                      1207361.0                                   NaN   \n",
      "Antigua and Barbuda           97928.0                                   NaN   \n",
      "Jamaica                     2961161.0                                   NaN   \n",
      "Belize                       397621.0                                   NaN   \n",
      "...                               ...                                   ...   \n",
      "US                            28735.0                                   NaN   \n",
      "US                           651552.0                                   NaN   \n",
      "US                            72999.0                                   NaN   \n",
      "US                            22995.0                                   NaN   \n",
      "US                             3975.0                                   NaN   \n",
      "\n",
      "                                                           data_source  \\\n",
      "country_region                                                           \n",
      "Switzerland          2019 Novel Coronavirus COVID-19 (2019-nCoV) Da...   \n",
      "Cyprus               2019 Novel Coronavirus COVID-19 (2019-nCoV) Da...   \n",
      "Antigua and Barbuda  2019 Novel Coronavirus COVID-19 (2019-nCoV) Da...   \n",
      "Jamaica              2019 Novel Coronavirus COVID-19 (2019-nCoV) Da...   \n",
      "Belize               2019 Novel Coronavirus COVID-19 (2019-nCoV) Da...   \n",
      "...                                                                ...   \n",
      "US                   2019 Novel Coronavirus COVID-19 (2019-nCoV) Da...   \n",
      "US                   2019 Novel Coronavirus COVID-19 (2019-nCoV) Da...   \n",
      "US                   2019 Novel Coronavirus COVID-19 (2019-nCoV) Da...   \n",
      "US                   2019 Novel Coronavirus COVID-19 (2019-nCoV) Da...   \n",
      "US                   2019 Novel Coronavirus COVID-19 (2019-nCoV) Da...   \n",
      "\n",
      "                       prep_flow_runtime  \n",
      "country_region                            \n",
      "Switzerland          2020-05-02T23:35:41  \n",
      "Cyprus               2020-05-02T23:35:41  \n",
      "Antigua and Barbuda  2020-05-02T23:35:41  \n",
      "Jamaica              2020-05-02T23:35:41  \n",
      "Belize               2020-05-02T23:35:41  \n",
      "...                                  ...  \n",
      "US                   2020-05-02T23:35:41  \n",
      "US                   2020-05-02T23:35:41  \n",
      "US                   2020-05-02T23:35:41  \n",
      "US                   2020-05-02T23:35:41  \n",
      "US                   2020-05-02T23:35:41  \n",
      "\n",
      "[718080 rows x 17 columns]\n"
     ]
    }
   ],
   "source": [
    "cov = covid19.set_index('country_region')\n",
    "print(cov)"
   ]
  },
  {
   "cell_type": "code",
   "execution_count": 16,
   "metadata": {},
   "outputs": [
    {
     "name": "stdout",
     "output_type": "stream",
     "text": [
      "                              people_total_tested_count  cases  difference  \\\n",
      "case_type country_region                                                     \n",
      "Confirmed Afghanistan                               0.0  33266        2469   \n",
      "          Albania                                   0.0  19435         789   \n",
      "          Algeria                                   0.0  82774        4295   \n",
      "          Andorra                                   0.0  23385         747   \n",
      "          Angola                                    0.0    714          35   \n",
      "...                                                 ...    ...         ...   \n",
      "Deaths    West Bank and Gaza                        0.0     71           2   \n",
      "          Western Sahara                            0.0      0           0   \n",
      "          Yemen                                     0.0      6           2   \n",
      "          Zambia                                    0.0     68           3   \n",
      "          Zimbabwe                                  0.0    103           4   \n",
      "\n",
      "                              fips          lat         long  \\\n",
      "case_type country_region                                       \n",
      "Confirmed Afghanistan          0.0  3461.789220  6906.415206   \n",
      "          Albania              0.0  4197.636600  2057.166600   \n",
      "          Algeria              0.0  2859.457800   169.279200   \n",
      "          Andorra              0.0  4335.642600   155.223600   \n",
      "          Angola               0.0 -1142.675400  1823.137800   \n",
      "...                            ...          ...          ...   \n",
      "Deaths    West Bank and Gaza   0.0  3259.124400  3593.786400   \n",
      "          Western Sahara       0.0  2469.981000 -1314.351600   \n",
      "          Yemen                0.0  1586.378154  4948.671576   \n",
      "          Zambia               0.0 -1339.657494  2840.631864   \n",
      "          Zimbabwe             0.0 -1939.574676  2973.795414   \n",
      "\n",
      "                              population_count  \\\n",
      "case_type country_region                         \n",
      "Confirmed Afghanistan             3.970691e+09   \n",
      "          Albania                 2.935356e+08   \n",
      "          Algeria                 4.472806e+09   \n",
      "          Andorra                 7.881030e+06   \n",
      "          Angola                  3.352359e+09   \n",
      "...                                        ...   \n",
      "Deaths    West Bank and Gaza      5.203444e+08   \n",
      "          Western Sahara          6.092766e+07   \n",
      "          Yemen                   3.042249e+09   \n",
      "          Zambia                  1.875164e+09   \n",
      "          Zimbabwe                1.516019e+09   \n",
      "\n",
      "                              people_hospitalized_cumulative_count  \n",
      "case_type country_region                                            \n",
      "Confirmed Afghanistan                                          0.0  \n",
      "          Albania                                              0.0  \n",
      "          Algeria                                              0.0  \n",
      "          Andorra                                              0.0  \n",
      "          Angola                                               0.0  \n",
      "...                                                            ...  \n",
      "Deaths    West Bank and Gaza                                   0.0  \n",
      "          Western Sahara                                       0.0  \n",
      "          Yemen                                                0.0  \n",
      "          Zambia                                               0.0  \n",
      "          Zimbabwe                                             0.0  \n",
      "\n",
      "[372 rows x 8 columns]\n"
     ]
    }
   ],
   "source": [
    "cov1 = cov.groupby(['case_type','country_region']).sum()\n",
    "print(cov1)\n"
   ]
  },
  {
   "cell_type": "code",
   "execution_count": 10,
   "metadata": {},
   "outputs": [
    {
     "data": {
      "text/plain": [
       "<Figure size 1152x432 with 0 Axes>"
      ]
     },
     "metadata": {},
     "output_type": "display_data"
    },
    {
     "data": {
      "image/png": "[encoded data removed]",
      "text/plain": [
       "<Figure size 432x288 with 2 Axes>"
      ]
     },
     "metadata": {
      "needs_background": "light"
     },
     "output_type": "display_data"
    }
   ],
   "source": [
    "plt.figure(figsize = (16,6))\n",
    "cor = cov1.corr()\n",
    "fig = plt.figure()\n",
    "ax = fig.add_subplot(111)\n",
    "cax = ax.matshow(cor, vmin=-1, vmax =1)\n",
    "fig.colorbar(cax)\n",
    "ticks=np.arange(0,8,1)\n",
    "ax.set_xticks(ticks)\n",
    "ax.set_yticks(ticks)\n",
    "plt.show()"
   ]
  },
  {
   "cell_type": "code",
   "execution_count": null,
   "metadata": {},
   "outputs": [],
   "source": [
    "covid19 = pd.read_csv('covid_19_cases.csv')"
   ]
  },
  {
   "cell_type": "code",
   "execution_count": 14,
   "metadata": {},
   "outputs": [
    {
     "data": {
      "text/plain": [
       "Text(0.5, 32.09375, 'Covid_data')"
      ]
     },
     "execution_count": 14,
     "metadata": {},
     "output_type": "execute_result"
    },
    {
     "data": {
      "image/png": "[encoded data removed]",
      "text/plain": [
       "<Figure size 864x432 with 2 Axes>"
      ]
     },
     "metadata": {
      "needs_background": "light"
     },
     "output_type": "display_data"
    }
   ],
   "source": [
    "plt.figure(figsize = (12,6))\n",
    "plt.title(\"Covid19\")\n",
    "sns.heatmap(covid19.corr(),annot = True,vmin=-1,vmax=1,center=0)\n",
    "plt.xlabel(\"Covid_data\")"
   ]
  },
  {
   "cell_type": "code",
   "execution_count": null,
   "metadata": {},
   "outputs": [],
   "source": []
  }
 ],
 "metadata": {
  "kernelspec": {
   "display_name": "Python 3",
   "language": "python",
   "name": "python3"
  },
  "language_info": {
   "codemirror_mode": {
    "name": "ipython",
    "version": 3
   },
   "file_extension": ".py",
   "mimetype": "text/x-python",
   "name": "python",
   "nbconvert_exporter": "python",
   "pygments_lexer": "ipython3",
   "version": "3.7.6"
  }
 },
 "nbformat": 4,
 "nbformat_minor": 4
}
